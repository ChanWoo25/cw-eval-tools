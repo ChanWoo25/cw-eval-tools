{
 "cells": [
  {
   "cell_type": "code",
   "execution_count": 2,
   "metadata": {},
   "outputs": [],
   "source": [
    "import numpy as np\n",
    "import matplotlib.pyplot as plt\n",
    "from pathlib import Path\n",
    "import os\n",
    "import shutil\n"
   ]
  },
  {
   "cell_type": "code",
   "execution_count": null,
   "metadata": {},
   "outputs": [],
   "source": [
    "ROOT = Path('/data/datasets/dataset_project')\n",
    "SEQS = []\n",
    "SEQS = [*SEQS, 'hangpa00', 'hangpa01', 'hangpa02',\n",
    "        'outdoor00', 'outdoor01', 'outdoor02', 'outdoor03']\n",
    "SEQS = [*SEQS, 'itbt00', 'itbt01', 'itbt02', 'itbt03',\n",
    "        'itbt_dark00', 'itbt_dark01', 'itbt_dark02', 'itbt_dark03']\n",
    "SEQS.sort()\n",
    "print(SEQS)\n"
   ]
  },
  {
   "cell_type": "code",
   "execution_count": 3,
   "metadata": {},
   "outputs": [
    {
     "name": "stdout",
     "output_type": "stream",
     "text": [
      "itbt00,134.47[m]/167.40[sec],0.641 (0.48%),0.113 (0.08%)\n",
      "itbt01,139.23[m]/181.60[sec],0.134 (0.10%),0.069 (0.05%)\n",
      "itbt02,129.33[m]/189.70[sec],0.075 (0.06%),0.123 (0.10%)\n",
      "itbt03,412.09[m]/505.40[sec],0.666 (0.16%),0.073 (0.02%)\n",
      "itbt_dark00,135.26[m]/146.60[sec],0.139 (0.10%),0.091 (0.07%)\n",
      "itbt_dark01,132.65[m]/159.50[sec],0.656 (0.49%),0.180 (0.14%)\n",
      "itbt_dark02,131.26[m]/179.80[sec],0.051 (0.04%),0.080 (0.06%)\n",
      "itbt_dark03,381.12[m]/425.10[sec],0.194 (0.05%),0.151 (0.04%)\n"
     ]
    }
   ],
   "source": [
    "ROOT = Path('/data/datasets/dataset_project')\n",
    "# SEQS = ['hangpa00', 'hangpa01', 'hangpa02',\n",
    "#         'outdoor00', 'outdoor01', 'outdoor02', 'outdoor03']\n",
    "SEQS = ['itbt00', 'itbt01', 'itbt02', 'itbt03',\n",
    "        'itbt_dark00', 'itbt_dark01', 'itbt_dark02', 'itbt_dark03']\n",
    "\n",
    "def getEnd2EndError(root: Path, seq: str):\n",
    "  fast_lio2_fn = root / seq / 'pose_fast_lio2.txt'\n",
    "  isam_fn = root / seq / 'pose_isam.txt'\n",
    "  pose_fast_lio2 = np.genfromtxt(fast_lio2_fn, dtype=float)\n",
    "  pose_isam = np.genfromtxt(isam_fn, dtype=float)\n",
    "  # print(pose_fast_lio2.shape)\n",
    "  # print(pose_isam.shape)\n",
    "\n",
    "  # translations\n",
    "  ts_fast = pose_fast_lio2[:, 1:4]\n",
    "  ts_isam = pose_isam[:, 1:4]\n",
    "  end2end_fast = np.linalg.norm(ts_fast[-1, :] - ts_fast[0, :])\n",
    "  end2end_isam = np.linalg.norm(ts_isam[-1, :] - ts_isam[0, :])\n",
    "  duration_fast = np.linalg.norm(pose_fast_lio2[-1,0] - pose_fast_lio2[0,0])\n",
    "  duration_isam = np.linalg.norm(pose_isam[-1,0] - pose_isam[0,0])\n",
    "  # print(f\"end2end_fast: {end2end_fast}\")\n",
    "  # print(f\"end2end_isam: {end2end_isam}\")\n",
    "  # print(f\"duration_fast: {duration_fast}\")\n",
    "  # print(f\"duration_isam: {duration_isam}\")\n",
    "\n",
    "  total_length1 = 0.0\n",
    "  n_keyframe = ts_isam.shape[0]\n",
    "  for i in range(n_keyframe-1):\n",
    "    dist = np.linalg.norm(ts_isam[i,:] - ts_isam[i+1,:])\n",
    "    total_length1 += dist\n",
    "  # print(f\"total_length1: {total_length1}\")\n",
    "\n",
    "  total_length2 = 0.0\n",
    "  n_pose = ts_fast.shape[0]\n",
    "  for i in range(n_pose-1):\n",
    "    dist = np.linalg.norm(ts_fast[i,:] - ts_fast[i+1,:])\n",
    "    total_length2 += dist\n",
    "  # print(f\"total_length2: {total_length2}\")\n",
    "\n",
    "  total_length = min(total_length1, total_length2)\n",
    "  duration = min(duration_fast, duration_isam)\n",
    "\n",
    "  e2e_fast_ratio = (end2end_fast / total_length) * 100.0\n",
    "  e2e_isam_ratio = (end2end_isam / total_length) * 100.0\n",
    "  print(f\"{seq},{total_length:.2f}[m]/{duration:.2f}[sec],{end2end_fast:.3f} ({e2e_fast_ratio:.2f}%),{end2end_isam:.3f} ({e2e_isam_ratio:.2f}%)\")\n",
    "for seq in SEQS:\n",
    "  getEnd2EndError(ROOT, seq)\n"
   ]
  },
  {
   "cell_type": "code",
   "execution_count": null,
   "metadata": {},
   "outputs": [],
   "source": []
  }
 ],
 "metadata": {
  "kernelspec": {
   "display_name": "Python 3",
   "language": "python",
   "name": "python3"
  },
  "language_info": {
   "codemirror_mode": {
    "name": "ipython",
    "version": 3
   },
   "file_extension": ".py",
   "mimetype": "text/x-python",
   "name": "python",
   "nbconvert_exporter": "python",
   "pygments_lexer": "ipython3",
   "version": "3.8.10"
  },
  "orig_nbformat": 4
 },
 "nbformat": 4,
 "nbformat_minor": 2
}
