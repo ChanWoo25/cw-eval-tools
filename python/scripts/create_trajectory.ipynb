{
 "cells": [
  {
   "cell_type": "code",
   "execution_count": 1,
   "metadata": {},
   "outputs": [],
   "source": [
    "import numpy as np\n",
    "from scipy.interpolate import CubicSpline\n",
    "import cv2\n",
    "import matplotlib.pyplot as plt "
   ]
  },
  {
   "cell_type": "code",
   "execution_count": null,
   "metadata": {},
   "outputs": [],
   "source": [
    "\n",
    "# Input data\n",
    "time = [0, 1, 2, 3, 4]  # Time\n",
    "x = [0, 1, 2, 3, 4]  # X coordinates\n",
    "y = [0, 3, 1, 2, 0]  # Y coordinates\n",
    "z = [0, -1, 2, -3, 0]  # Z coordinates\n",
    "\n",
    "# Create CubicSpline objects for each dimension\n",
    "spline_x = CubicSpline(time, x)\n",
    "spline_y = CubicSpline(time, y)\n",
    "spline_z = CubicSpline(time, z)\n",
    "\n",
    "# Generate constant time intervals\n",
    "num_points = 10  # Number of points to extract at constant time intervals\n",
    "start_time = min(time)  # Start time of the trajectory\n",
    "end_time = max(time)  # End time of the trajectory\n",
    "time_grid = np.linspace(start_time, end_time, num_points)  # Generate constant time intervals\n",
    "\n",
    "# Extract positions at constant time intervals\n",
    "new_x = spline_x(time_grid)\n",
    "new_y = spline_y(time_grid)\n",
    "new_z = spline_z(time_grid)\n",
    "\n",
    "# Print the results\n",
    "for t, coord_x, coord_y, coord_z in zip(time_grid, new_x, new_y, new_z):\n",
    "    print(f\"Time: {t:.2f}, Coordinates: ({coord_x:.2f}, {coord_y:.2f}, {coord_z:.2f})\")"
   ]
  }
 ],
 "metadata": {
  "kernelspec": {
   "display_name": "cw_eval",
   "language": "python",
   "name": "python3"
  },
  "language_info": {
   "codemirror_mode": {
    "name": "ipython",
    "version": 3
   },
   "file_extension": ".py",
   "mimetype": "text/x-python",
   "name": "python",
   "nbconvert_exporter": "python",
   "pygments_lexer": "ipython3",
   "version": "3.8.16"
  },
  "orig_nbformat": 4
 },
 "nbformat": 4,
 "nbformat_minor": 2
}
