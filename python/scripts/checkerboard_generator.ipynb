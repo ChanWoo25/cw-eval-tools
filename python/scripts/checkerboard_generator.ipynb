{
 "cells": [
  {
   "cell_type": "code",
   "execution_count": 2,
   "metadata": {},
   "outputs": [],
   "source": [
    "import cv2\n",
    "import numpy as np\n",
    "\n",
    "def get_checkerboard_img(low=0, high=255):\n",
    "    img_width  = 4800\n",
    "    img_height = 4800\n",
    "\n",
    "    # Checkerboard parameters\n",
    "    num_rows = 6  # Number of rows in the checkerboard\n",
    "    num_cols = 9  # Number of columns in the checkerboard\n",
    "    square_size = 400  # Size of each square in pixels\n",
    "\n",
    "    # Calculate the size of the checkerboard pattern\n",
    "    pattern_width = num_cols * square_size\n",
    "    pattern_height = num_rows * square_size\n",
    "\n",
    "    assert (pattern_height <= img_height)\n",
    "    assert (pattern_width  <= img_width)\n",
    "\n",
    "    # Create a blank image with white background\n",
    "    diff = high - low\n",
    "    assert(0 <= low and high <= 255)\n",
    "    \n",
    "    pattern = np.ones((pattern_height, pattern_width), dtype=np.uint8) * diff + low \n",
    "    \n",
    "    img     = np.ones((img_height, img_width), dtype=np.uint8) * 255\n",
    "    roi = img[int(img_height//2-pattern_height//2):int(img_height//2+pattern_height//2),\n",
    "            int(img_width//2-pattern_width//2):int(img_width//2+pattern_width//2)]\n",
    "\n",
    "    # Draw the checkerboard pattern\n",
    "    for row in range(num_rows):\n",
    "        for col in range(num_cols):\n",
    "            if (row + col) % 2 == 0:\n",
    "                x1 = col * square_size\n",
    "                y1 = row * square_size\n",
    "                x2 = (col + 1) * square_size - 1\n",
    "                y2 = (row + 1) * square_size - 1\n",
    "                cv2.rectangle(pattern, (x1, y1), (x2, y2), (low, low, low), -1)\n",
    "\n",
    "    roi[:] = pattern.copy()\n",
    "    return img"
   ]
  },
  {
   "cell_type": "code",
   "execution_count": 4,
   "metadata": {},
   "outputs": [
    {
     "data": {
      "text/plain": [
       "True"
      ]
     },
     "execution_count": 4,
     "metadata": {},
     "output_type": "execute_result"
    }
   ],
   "source": [
    "# checkboard_0_255 = get_checkerboard_img(0, 255)\n",
    "# cv2.imwrite(\"/home/leecw/Pictures/HYU_symbol_basic/checkerboard_0_255.png\", checkboard_0_255)\n",
    "\n",
    "# checkboard_0_127 = get_checkerboard_img(0, 127)\n",
    "# cv2.imwrite(\"/home/leecw/Pictures/HYU_symbol_basic/checkerboard_0_127.png\", checkboard_0_127)\n",
    "\n",
    "# checkboard_128_255 = get_checkerboard_img(128, 255)\n",
    "# cv2.imwrite(\"/home/leecw/Pictures/HYU_symbol_basic/checkerboard_128_255.png\", checkboard_128_255)\n",
    "\n",
    "# checkboard_0_80 = get_checkerboard_img(0, 80)\n",
    "# cv2.imwrite(\"/home/leecw/Pictures/HYU_symbol_basic/checkerboard_0_80.png\", checkboard_0_80)\n",
    "\n",
    "# checkboard_80_160 = get_checkerboard_img(80, 160)\n",
    "# cv2.imwrite(\"/home/leecw/Pictures/HYU_symbol_basic/checkerboard_80_160.png\", checkboard_80_160)\n",
    "\n",
    "# checkboard_160_240 = get_checkerboard_img(160, 240)\n",
    "# cv2.imwrite(\"/home/leecw/Pictures/HYU_symbol_basic/checkerboard_160_240.png\", checkboard_160_240)"
   ]
  }
 ],
 "metadata": {
  "kernelspec": {
   "display_name": "cw_eval",
   "language": "python",
   "name": "python3"
  },
  "language_info": {
   "codemirror_mode": {
    "name": "ipython",
    "version": 3
   },
   "file_extension": ".py",
   "mimetype": "text/x-python",
   "name": "python",
   "nbconvert_exporter": "python",
   "pygments_lexer": "ipython3",
   "version": "3.8.16"
  },
  "orig_nbformat": 4
 },
 "nbformat": 4,
 "nbformat_minor": 2
}
