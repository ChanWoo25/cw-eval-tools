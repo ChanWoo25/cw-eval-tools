{
 "cells": [
  {
   "cell_type": "code",
   "execution_count": 3,
   "metadata": {},
   "outputs": [],
   "source": [
    "import numpy as np\n",
    "import matplotlib.pyplot as plt\n",
    "from pathlib import Path"
   ]
  },
  {
   "cell_type": "code",
   "execution_count": 16,
   "metadata": {},
   "outputs": [
    {
     "name": "stdout",
     "output_type": "stream",
     "text": [
      "hangpa00,222.43[m]/228.40[sec],0.025 (0.01%),0.101 (0.05%)\n",
      "hangpa01,253.27[m]/256.10[sec],0.040 (0.02%),0.191 (0.08%)\n",
      "hangpa02,383.67[m]/390.70[sec],0.042 (0.01%),0.220 (0.06%)\n",
      "outdoor00,142.31[m]/202.90[sec],0.018 (0.01%),0.105 (0.07%)\n",
      "outdoor01,194.11[m]/236.00[sec],0.038 (0.02%),0.114 (0.06%)\n",
      "outdoor02,293.12[m]/328.00[sec],0.018 (0.01%),0.336 (0.11%)\n",
      "outdoor03,354.33[m]/422.30[sec],0.046 (0.01%),0.121 (0.03%)\n"
     ]
    }
   ],
   "source": [
    "ROOT = Path('/data/datasets/dataset_project')\n",
    "SEQS = ['hangpa00', 'hangpa01', 'hangpa02',\n",
    "        'outdoor00', 'outdoor01', 'outdoor02', 'outdoor03']\n",
    "\n",
    "def getEnd2EndError(root: Path, seq: str):\n",
    "  fast_lio2_fn = root / seq / 'pose_fast_lio2.txt'\n",
    "  isam_fn = root / seq / 'pose_isam.txt'\n",
    "  pose_fast_lio2 = np.genfromtxt(fast_lio2_fn, dtype=float)\n",
    "  pose_isam = np.genfromtxt(isam_fn, dtype=float)\n",
    "  # print(pose_fast_lio2.shape)\n",
    "  # print(pose_isam.shape)\n",
    "  \n",
    "  # translations\n",
    "  ts_fast = pose_fast_lio2[:, 1:4]\n",
    "  ts_isam = pose_isam[:, 1:4]\n",
    "  end2end_fast = np.linalg.norm(ts_fast[-1, :] - ts_fast[0, :])\n",
    "  end2end_isam = np.linalg.norm(ts_isam[-1, :] - ts_isam[0, :])\n",
    "  duration_fast = np.linalg.norm(pose_fast_lio2[-1,0] - pose_fast_lio2[0,0])\n",
    "  duration_isam = np.linalg.norm(pose_isam[-1,0] - pose_isam[0,0])\n",
    "  # print(f\"end2end_fast: {end2end_fast}\")  \n",
    "  # print(f\"end2end_isam: {end2end_isam}\")  \n",
    "  # print(f\"duration_fast: {duration_fast}\")  \n",
    "  # print(f\"duration_isam: {duration_isam}\")  \n",
    "  \n",
    "  total_length1 = 0.0\n",
    "  n_keyframe = ts_isam.shape[0]\n",
    "  for i in range(n_keyframe-1):\n",
    "    dist = np.linalg.norm(ts_isam[i,:] - ts_isam[i+1,:])\n",
    "    total_length1 += dist\n",
    "  # print(f\"total_length1: {total_length1}\")  \n",
    "    \n",
    "  total_length2 = 0.0\n",
    "  n_pose = ts_fast.shape[0]\n",
    "  for i in range(n_pose-1):\n",
    "    dist = np.linalg.norm(ts_fast[i,:] - ts_fast[i+1,:])\n",
    "    total_length2 += dist\n",
    "  # print(f\"total_length2: {total_length2}\")  \n",
    "  \n",
    "  total_length = min(total_length1, total_length2)\n",
    "  duration = min(duration_fast, duration_isam)\n",
    "  \n",
    "  e2e_fast_ratio = (end2end_fast / total_length) * 100.0\n",
    "  e2e_isam_ratio = (end2end_isam / total_length) * 100.0\n",
    "  print(f\"{seq},{total_length:.2f}[m]/{duration:.2f}[sec],{end2end_fast:.3f} ({e2e_fast_ratio:.2f}%),{end2end_isam:.3f} ({e2e_isam_ratio:.2f}%)\")\n",
    "for seq in SEQS:\n",
    "  getEnd2EndError(ROOT, seq)"
   ]
  },
  {
   "cell_type": "code",
   "execution_count": null,
   "metadata": {},
   "outputs": [],
   "source": []
  }
 ],
 "metadata": {
  "kernelspec": {
   "display_name": "Python 3",
   "language": "python",
   "name": "python3"
  },
  "language_info": {
   "codemirror_mode": {
    "name": "ipython",
    "version": 3
   },
   "file_extension": ".py",
   "mimetype": "text/x-python",
   "name": "python",
   "nbconvert_exporter": "python",
   "pygments_lexer": "ipython3",
   "version": "3.8.10"
  },
  "orig_nbformat": 4
 },
 "nbformat": 4,
 "nbformat_minor": 2
}
